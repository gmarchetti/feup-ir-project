{
 "cells": [
  {
   "cell_type": "code",
   "execution_count": 1,
   "id": "dccaa3da",
   "metadata": {},
   "outputs": [
    {
     "name": "stdout",
     "output_type": "stream",
     "text": [
      "<class 'pandas.core.frame.DataFrame'>\n",
      "Index: 7718 entries, 162 to 1056448\n",
      "Data columns (total 17 columns):\n",
      " #   Column            Non-Null Count  Dtype         \n",
      "---  ------            --------------  -----         \n",
      " 0   cord_uid          7718 non-null   object        \n",
      " 1   source_x          7718 non-null   object        \n",
      " 2   title             7718 non-null   object        \n",
      " 3   doi               7677 non-null   object        \n",
      " 4   pmcid             4959 non-null   object        \n",
      " 5   pubmed_id         6233 non-null   object        \n",
      " 6   license           7718 non-null   object        \n",
      " 7   abstract          7718 non-null   object        \n",
      " 8   publish_time      7715 non-null   object        \n",
      " 9   authors           7674 non-null   object        \n",
      " 10  journal           6668 non-null   object        \n",
      " 11  mag_id            0 non-null      float64       \n",
      " 12  who_covidence_id  528 non-null    object        \n",
      " 13  arxiv_id          20 non-null     object        \n",
      " 14  label             7718 non-null   object        \n",
      " 15  time              7715 non-null   datetime64[ns]\n",
      " 16  timet             7718 non-null   int64         \n",
      "dtypes: datetime64[ns](1), float64(1), int64(1), object(14)\n",
      "memory usage: 1.1+ MB\n"
     ]
    }
   ],
   "source": [
    "import numpy as np\n",
    "import pandas as pd\n",
    "\n",
    "PATH_COLLECTION_DATA = 'data/subtask_4b/subtask4b_collection_data.pkl'\n",
    "\n",
    "df_collection = pd.read_pickle(PATH_COLLECTION_DATA)\n",
    "df_collection.info()"
   ]
  },
  {
   "cell_type": "code",
   "execution_count": 2,
   "id": "eb200706",
   "metadata": {},
   "outputs": [
    {
     "data": {
      "text/html": [
       "<div>\n",
       "<style scoped>\n",
       "    .dataframe tbody tr th:only-of-type {\n",
       "        vertical-align: middle;\n",
       "    }\n",
       "\n",
       "    .dataframe tbody tr th {\n",
       "        vertical-align: top;\n",
       "    }\n",
       "\n",
       "    .dataframe thead th {\n",
       "        text-align: right;\n",
       "    }\n",
       "</style>\n",
       "<table border=\"1\" class=\"dataframe\">\n",
       "  <thead>\n",
       "    <tr style=\"text-align: right;\">\n",
       "      <th></th>\n",
       "      <th>post_id</th>\n",
       "      <th>tweet_text</th>\n",
       "      <th>cord_uid</th>\n",
       "    </tr>\n",
       "  </thead>\n",
       "  <tbody>\n",
       "    <tr>\n",
       "      <th>0</th>\n",
       "      <td>0</td>\n",
       "      <td>Oral care in rehabilitation medicine: oral vul...</td>\n",
       "      <td>htlvpvz5</td>\n",
       "    </tr>\n",
       "    <tr>\n",
       "      <th>1</th>\n",
       "      <td>1</td>\n",
       "      <td>this study isn't receiving sufficient attentio...</td>\n",
       "      <td>4kfl29ul</td>\n",
       "    </tr>\n",
       "    <tr>\n",
       "      <th>2</th>\n",
       "      <td>2</td>\n",
       "      <td>thanks, xi jinping. a reminder that this study...</td>\n",
       "      <td>jtwb17u8</td>\n",
       "    </tr>\n",
       "    <tr>\n",
       "      <th>3</th>\n",
       "      <td>3</td>\n",
       "      <td>Taiwan - a population of 23 million has had ju...</td>\n",
       "      <td>0w9k8iy1</td>\n",
       "    </tr>\n",
       "    <tr>\n",
       "      <th>4</th>\n",
       "      <td>4</td>\n",
       "      <td>Obtaining a diagnosis of autism in lower incom...</td>\n",
       "      <td>tiqksd69</td>\n",
       "    </tr>\n",
       "  </tbody>\n",
       "</table>\n",
       "</div>"
      ],
      "text/plain": [
       "   post_id                                         tweet_text  cord_uid\n",
       "0        0  Oral care in rehabilitation medicine: oral vul...  htlvpvz5\n",
       "1        1  this study isn't receiving sufficient attentio...  4kfl29ul\n",
       "2        2  thanks, xi jinping. a reminder that this study...  jtwb17u8\n",
       "3        3  Taiwan - a population of 23 million has had ju...  0w9k8iy1\n",
       "4        4  Obtaining a diagnosis of autism in lower incom...  tiqksd69"
      ]
     },
     "execution_count": 2,
     "metadata": {},
     "output_type": "execute_result"
    }
   ],
   "source": [
    "PATH_QUERY_DATA = 'data/subtask_4b/subtask4b_query_tweets_train.tsv'\n",
    "\n",
    "df_query = pd.read_csv(PATH_QUERY_DATA, sep = '\\t')\n",
    "df_query.head()"
   ]
  },
  {
   "cell_type": "code",
   "execution_count": 3,
   "id": "d11473ee",
   "metadata": {},
   "outputs": [
    {
     "name": "stderr",
     "output_type": "stream",
     "text": [
      "100%|██████████| 7718/7718 [00:00<00:00, 88680.92it/s]\n"
     ]
    }
   ],
   "source": [
    "# Data prep for bi-encoder\n",
    "from tqdm import tqdm\n",
    "from rankers.bi_encoder_ranker import BiEncoderRanker\n",
    "\n",
    "tqdm.pandas()\n",
    "\n",
    "def flatten_corpus(entry):    \n",
    "    title = entry[\"title\"]\n",
    "    authors = entry[\"authors\"]\n",
    "    abstract = entry[\"abstract\"]\n",
    "    journal = entry[\"journal\"]\n",
    "\n",
    "    paper_data = f\"{title} [SEP] {authors} [SEP] {abstract} [SEP] {journal}\"\n",
    "    return paper_data\n",
    "\n",
    "cord_uids = df_collection[:]['cord_uid'].tolist()\n",
    "corpus = df_collection.progress_apply(lambda x: flatten_corpus(x), axis = 1)\n",
    "corpus = corpus.tolist()"
   ]
  },
  {
   "cell_type": "code",
   "execution_count": 4,
   "id": "7242055f",
   "metadata": {},
   "outputs": [
    {
     "name": "stderr",
     "output_type": "stream",
     "text": [
      "INFO:sentence_transformers.SentenceTransformer:Use pytorch device_name: cuda:0\n",
      "INFO:sentence_transformers.SentenceTransformer:Load pretrained SentenceTransformer: multi-qa-mpnet-base-cos-v1\n"
     ]
    },
    {
     "data": {
      "application/vnd.jupyter.widget-view+json": {
       "model_id": "edbb2bc92f254924978f1c227c7a24ec",
       "version_major": 2,
       "version_minor": 0
      },
      "text/plain": [
       "Batches:   0%|          | 0/242 [00:00<?, ?it/s]"
      ]
     },
     "metadata": {},
     "output_type": "display_data"
    }
   ],
   "source": [
    "bi_model_name = \"multi-qa-mpnet-base-cos-v1\"\n",
    "bi_enc_ranker = BiEncoderRanker(bi_model_name, corpus)"
   ]
  },
  {
   "cell_type": "code",
   "execution_count": 5,
   "id": "3913db43",
   "metadata": {},
   "outputs": [
    {
     "name": "stderr",
     "output_type": "stream",
     "text": [
      "100%|██████████| 12853/12853 [5:14:54<00:00,  1.47s/it]  \n"
     ]
    },
    {
     "data": {
      "text/html": [
       "<div>\n",
       "<style scoped>\n",
       "    .dataframe tbody tr th:only-of-type {\n",
       "        vertical-align: middle;\n",
       "    }\n",
       "\n",
       "    .dataframe tbody tr th {\n",
       "        vertical-align: top;\n",
       "    }\n",
       "\n",
       "    .dataframe thead th {\n",
       "        text-align: right;\n",
       "    }\n",
       "</style>\n",
       "<table border=\"1\" class=\"dataframe\">\n",
       "  <thead>\n",
       "    <tr style=\"text-align: right;\">\n",
       "      <th></th>\n",
       "      <th>post_id</th>\n",
       "      <th>tweet_text</th>\n",
       "      <th>cord_uid</th>\n",
       "      <th>bi_cross</th>\n",
       "    </tr>\n",
       "  </thead>\n",
       "  <tbody>\n",
       "    <tr>\n",
       "      <th>0</th>\n",
       "      <td>0</td>\n",
       "      <td>Oral care in rehabilitation medicine: oral vul...</td>\n",
       "      <td>htlvpvz5</td>\n",
       "      <td>[htlvpvz5, fkwgq5mr, yec87cye, e9uou6rr, b52pn...</td>\n",
       "    </tr>\n",
       "    <tr>\n",
       "      <th>1</th>\n",
       "      <td>1</td>\n",
       "      <td>this study isn't receiving sufficient attentio...</td>\n",
       "      <td>4kfl29ul</td>\n",
       "      <td>[jveh2w09, 29z4q4fs, 7k8nlea3, maj8r6ti, bjvg2...</td>\n",
       "    </tr>\n",
       "    <tr>\n",
       "      <th>2</th>\n",
       "      <td>2</td>\n",
       "      <td>thanks, xi jinping. a reminder that this study...</td>\n",
       "      <td>jtwb17u8</td>\n",
       "      <td>[jtwb17u8, iobpcfs5, veeavho5, 2tu707ng, f1ckv...</td>\n",
       "    </tr>\n",
       "    <tr>\n",
       "      <th>3</th>\n",
       "      <td>3</td>\n",
       "      <td>Taiwan - a population of 23 million has had ju...</td>\n",
       "      <td>0w9k8iy1</td>\n",
       "      <td>[0w9k8iy1, l4y7v729, q5wiqpcb, gy0kfhy6, zxe95...</td>\n",
       "    </tr>\n",
       "    <tr>\n",
       "      <th>4</th>\n",
       "      <td>4</td>\n",
       "      <td>Obtaining a diagnosis of autism in lower incom...</td>\n",
       "      <td>tiqksd69</td>\n",
       "      <td>[tiqksd69, aqbhxv1f, lr5lumdr, k7smwz6w, 0u330...</td>\n",
       "    </tr>\n",
       "  </tbody>\n",
       "</table>\n",
       "</div>"
      ],
      "text/plain": [
       "   post_id                                         tweet_text  cord_uid  \\\n",
       "0        0  Oral care in rehabilitation medicine: oral vul...  htlvpvz5   \n",
       "1        1  this study isn't receiving sufficient attentio...  4kfl29ul   \n",
       "2        2  thanks, xi jinping. a reminder that this study...  jtwb17u8   \n",
       "3        3  Taiwan - a population of 23 million has had ju...  0w9k8iy1   \n",
       "4        4  Obtaining a diagnosis of autism in lower incom...  tiqksd69   \n",
       "\n",
       "                                            bi_cross  \n",
       "0  [htlvpvz5, fkwgq5mr, yec87cye, e9uou6rr, b52pn...  \n",
       "1  [jveh2w09, 29z4q4fs, 7k8nlea3, maj8r6ti, bjvg2...  \n",
       "2  [jtwb17u8, iobpcfs5, veeavho5, 2tu707ng, f1ckv...  \n",
       "3  [0w9k8iy1, l4y7v729, q5wiqpcb, gy0kfhy6, zxe95...  \n",
       "4  [tiqksd69, aqbhxv1f, lr5lumdr, k7smwz6w, 0u330...  "
      ]
     },
     "execution_count": 5,
     "metadata": {},
     "output_type": "execute_result"
    }
   ],
   "source": [
    "from os import listdir\n",
    "from rankers.cross_embedding_ranker import CrossRanker\n",
    "\n",
    "dir_list = listdir(\"models/cross-embedding\")\n",
    "dir_list.sort()\n",
    "\n",
    "latest_checkpoint = dir_list[-1]\n",
    "\n",
    "cross_model_name = f\"models/cross-embedding/{latest_checkpoint}\"\n",
    "cross_ranker = CrossRanker(cross_model_name)\n",
    "\n",
    "def get_top_cord_uids_bi(query):\n",
    "    doc_scores = bi_enc_ranker.get_scores(query)\n",
    "    indices = np.argsort(-doc_scores[0])[:50]\n",
    "    bi_topk = [cord_uids[x] for x in indices]\n",
    "\n",
    "    reduced_corpus = df_collection[df_collection['cord_uid'].isin(bi_topk)]\n",
    "\n",
    "    return reduced_corpus\n",
    "\n",
    "def get_top_cord_uids(query):\n",
    "    reduced_corpus = get_top_cord_uids_bi(query)\n",
    "    \n",
    "    doc_scores = cross_ranker.get_scores(query, reduced_corpus)\n",
    "    \n",
    "    indices = np.argsort(-doc_scores)[:5]\n",
    "\n",
    "    cross_topk = [reduced_corpus.iloc[x][\"cord_uid\"] for x in indices]\n",
    "\n",
    "    return cross_topk\n",
    "\n",
    "# Retrieve topk candidates using the BM25 model\n",
    "df_query.loc[:,'bi_cross'] = df_query.loc[:, 'tweet_text'].progress_apply(lambda x: get_top_cord_uids(x))\n",
    "df_query.head()\n"
   ]
  },
  {
   "cell_type": "code",
   "execution_count": 6,
   "id": "d65cb140",
   "metadata": {},
   "outputs": [
    {
     "name": "stdout",
     "output_type": "stream",
     "text": [
      ">>>\n",
      "{1: np.float64(0.6115303820119816), 5: np.float64(0.6661778054410125), 10: np.float64(0.6661778054410125)}\n",
      "{1: np.float64(0.6115303820119816), 5: np.float64(0.7458180969423481), 10: np.float64(0.7458180969423481), 100: np.float64(0.7458180969423481)}\n",
      "<<<\n"
     ]
    }
   ],
   "source": [
    "from eval_scripts.eval import get_performance_mrr, get_avg_gold_in_pred, create_pred_file\n",
    "\n",
    "mrr_results = get_performance_mrr(df_query, 'cord_uid', 'bi_cross')\n",
    "gold_results = get_avg_gold_in_pred(df_query, 'cord_uid', 'bi_cross', list_k=[1, 5, 10, 100])\n",
    "# Printed MRR@k results in the following format: {k: MRR@k}\n",
    "print(\">>>\")\n",
    "print(mrr_results)\n",
    "print(gold_results)\n",
    "print(\"<<<\")\n",
    "\n",
    "def create_gold_pred_file(query_set, prediction_columns):    \n",
    "    query_set['preds'] = query_set[prediction_columns].apply(lambda x: x[:5])\n",
    "    gold_query_set = query_set.loc[query_set.apply(lambda row: row[\"cord_uid\"] in(row[\"preds\"]), axis=1)]\n",
    "    gold_query_set[['post_id', 'cord_uid', 'preds']].to_csv('data/pairwise-model-data/gold_pred.tsv', index=None, sep='\\t')\n",
    "\n",
    "create_gold_pred_file(df_query, \"bi_cross\")"
   ]
  }
 ],
 "metadata": {
  "kernelspec": {
   "display_name": ".ir-env",
   "language": "python",
   "name": "python3"
  },
  "language_info": {
   "codemirror_mode": {
    "name": "ipython",
    "version": 3
   },
   "file_extension": ".py",
   "mimetype": "text/x-python",
   "name": "python",
   "nbconvert_exporter": "python",
   "pygments_lexer": "ipython3",
   "version": "3.12.3"
  }
 },
 "nbformat": 4,
 "nbformat_minor": 5
}
