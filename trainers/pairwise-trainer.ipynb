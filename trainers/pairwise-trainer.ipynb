{
 "cells": [
  {
   "cell_type": "code",
   "execution_count": 1,
   "id": "dabae853",
   "metadata": {},
   "outputs": [],
   "source": [
    "import numpy as np\n",
    "import pandas as pd\n",
    "from pandas_streaming.df import StreamingDataFrame\n",
    "import os\n",
    "\n",
    "from transformers import AutoTokenizer, TrainingArguments, Trainer, ModernBertForSequenceClassification\n",
    "from datasets import Dataset, load_dataset\n",
    "\n",
    "\n",
    "import evaluate\n",
    "import torch\n",
    "\n",
    "torch.set_float32_matmul_precision('high')\n",
    "\n",
    "metric = evaluate.load(\"accuracy\")\n",
    "\n",
    "def compute_metrics(eval_pred):\n",
    "    logits, labels = eval_pred\n",
    "    # convert the logits to their predicted class\n",
    "    predictions = np.argmax(logits, axis=-1)\n",
    "    \n",
    "    # print(f\"Avg pred: {sum(predictions)/len(predictions)}, Avg Labels: {sum(labels)/len(labels)}\")\n",
    "    \n",
    "    return metric.compute(predictions=predictions, references=labels)\n",
    "\n",
    "dataset = load_dataset(\"csv\", data_files=\"../data/pairwise-model-data/pairedwise-tweets.tsv\", delimiter=\"\\t\")\n",
    "dataset.shuffle()\n",
    "split = dataset[\"train\"].train_test_split(test_size=0.2)\n",
    "\n",
    "train_dataset = split[\"train\"].remove_columns('Unnamed: 0').take(32000)\n",
    "eval_dataset = split[\"test\"].remove_columns('Unnamed: 0').take(8000)\n",
    "\n"
   ]
  },
  {
   "cell_type": "code",
   "execution_count": 2,
   "id": "25d4d15e",
   "metadata": {},
   "outputs": [],
   "source": [
    "def preprocess_function(examples):\n",
    "    full_str = \"[CLS] \"\n",
    "    full_str += examples[\"query\"]\n",
    "    \n",
    "    full_str += \" [SEP] \" + examples[\"paper1\"]\n",
    "    full_str += \" [SEP] \" + examples[\"paper2\"]\n",
    "\n",
    "    return tokenizer(full_str, truncation=True).to('cuda')\n",
    "\n",
    "\n",
    "id2label = {0: \"0\", 1: \"1\"}\n",
    "label2id = {\"0\": 0, \"1\": 1}\n",
    "\n",
    "tokenizer = AutoTokenizer.from_pretrained(\"answerdotai/ModernBERT-base\")"
   ]
  },
  {
   "cell_type": "code",
   "execution_count": 3,
   "id": "fd45da20",
   "metadata": {},
   "outputs": [
    {
     "data": {
      "application/vnd.jupyter.widget-view+json": {
       "model_id": "82c1d20de72e4fac9fc50e98e5f5f9a4",
       "version_major": 2,
       "version_minor": 0
      },
      "text/plain": [
       "Map:   0%|          | 0/32000 [00:00<?, ? examples/s]"
      ]
     },
     "metadata": {},
     "output_type": "display_data"
    }
   ],
   "source": [
    "train_dataset_tokenized = train_dataset.map(preprocess_function)"
   ]
  },
  {
   "cell_type": "code",
   "execution_count": 4,
   "id": "e9bb062f",
   "metadata": {},
   "outputs": [
    {
     "data": {
      "application/vnd.jupyter.widget-view+json": {
       "model_id": "09cedbd3e51f412eb68567e37865dd36",
       "version_major": 2,
       "version_minor": 0
      },
      "text/plain": [
       "Map:   0%|          | 0/8000 [00:00<?, ? examples/s]"
      ]
     },
     "metadata": {},
     "output_type": "display_data"
    }
   ],
   "source": [
    "test_dataset_tokenized = eval_dataset.map(preprocess_function)"
   ]
  },
  {
   "cell_type": "code",
   "execution_count": 5,
   "id": "373c59b2",
   "metadata": {},
   "outputs": [
    {
     "name": "stderr",
     "output_type": "stream",
     "text": [
      "Some weights of ModernBertForSequenceClassification were not initialized from the model checkpoint at answerdotai/ModernBERT-base and are newly initialized: ['classifier.bias', 'classifier.weight']\n",
      "You should probably TRAIN this model on a down-stream task to be able to use it for predictions and inference.\n",
      "W0527 23:24:38.681000 1751 torch/_inductor/utils.py:1250] [1/0] Not enough SMs to use max_autotune_gemm mode\n"
     ]
    },
    {
     "data": {
      "text/html": [
       "\n",
       "    <div>\n",
       "      \n",
       "      <progress value='64000' max='64000' style='width:300px; height:20px; vertical-align: middle;'></progress>\n",
       "      [64000/64000 10:13:44, Epoch 2/2]\n",
       "    </div>\n",
       "    <table border=\"1\" class=\"dataframe\">\n",
       "  <thead>\n",
       " <tr style=\"text-align: left;\">\n",
       "      <th>Step</th>\n",
       "      <th>Training Loss</th>\n",
       "      <th>Validation Loss</th>\n",
       "      <th>Accuracy</th>\n",
       "    </tr>\n",
       "  </thead>\n",
       "  <tbody>\n",
       "    <tr>\n",
       "      <td>48000</td>\n",
       "      <td>0.535500</td>\n",
       "      <td>0.567450</td>\n",
       "      <td>0.897250</td>\n",
       "    </tr>\n",
       "    <tr>\n",
       "      <td>52000</td>\n",
       "      <td>0.468800</td>\n",
       "      <td>0.466353</td>\n",
       "      <td>0.918375</td>\n",
       "    </tr>\n",
       "    <tr>\n",
       "      <td>56000</td>\n",
       "      <td>0.544200</td>\n",
       "      <td>0.457961</td>\n",
       "      <td>0.921625</td>\n",
       "    </tr>\n",
       "    <tr>\n",
       "      <td>60000</td>\n",
       "      <td>0.373300</td>\n",
       "      <td>0.474057</td>\n",
       "      <td>0.921625</td>\n",
       "    </tr>\n",
       "    <tr>\n",
       "      <td>64000</td>\n",
       "      <td>0.392500</td>\n",
       "      <td>0.463291</td>\n",
       "      <td>0.922500</td>\n",
       "    </tr>\n",
       "  </tbody>\n",
       "</table><p>"
      ],
      "text/plain": [
       "<IPython.core.display.HTML object>"
      ]
     },
     "metadata": {},
     "output_type": "display_data"
    },
    {
     "data": {
      "text/plain": [
       "TrainOutput(global_step=64000, training_loss=0.15793819427490235, metrics={'train_runtime': 36830.5612, 'train_samples_per_second': 1.738, 'train_steps_per_second': 1.738, 'total_flos': 4.11663284359997e+16, 'train_loss': 0.15793819427490235, 'epoch': 2.0})"
      ]
     },
     "execution_count": 5,
     "metadata": {},
     "output_type": "execute_result"
    }
   ],
   "source": [
    "model = ModernBertForSequenceClassification.from_pretrained(\"answerdotai/ModernBERT-base\", num_labels=2, id2label=id2label, label2id=label2id).to(\"cuda\")\n",
    "\n",
    "training_args = TrainingArguments(\n",
    "    output_dir=\"../models/pairwise-classifier-full\",\n",
    "    learning_rate=2e-6,\n",
    "    per_device_train_batch_size=1,\n",
    "    per_device_eval_batch_size=1,\n",
    "    num_train_epochs=2,\n",
    "    weight_decay=0.01,\n",
    "    eval_strategy=\"steps\",\n",
    "    eval_steps=4000,\n",
    "    save_strategy=\"steps\",\n",
    "    save_steps=4000,\n",
    "    load_best_model_at_end=True,\n",
    "    push_to_hub=False,\n",
    "    fp16=True,\n",
    "    optim=\"adamw_torch\",\n",
    "    save_total_limit=2,\n",
    "    eval_on_start=False,\n",
    "    remove_unused_columns=False\n",
    ")\n",
    "\n",
    "trainer = Trainer(\n",
    "    model=model,\n",
    "    args=training_args,\n",
    "    train_dataset=train_dataset_tokenized,\n",
    "    eval_dataset=test_dataset_tokenized,\n",
    "    compute_metrics=compute_metrics,\n",
    ")\n",
    "\n",
    "# trainer.evaluate()\n",
    "trainer.train(resume_from_checkpoint=True)"
   ]
  }
 ],
 "metadata": {
  "kernelspec": {
   "display_name": ".ir-env",
   "language": "python",
   "name": "python3"
  },
  "language_info": {
   "codemirror_mode": {
    "name": "ipython",
    "version": 3
   },
   "file_extension": ".py",
   "mimetype": "text/x-python",
   "name": "python",
   "nbconvert_exporter": "python",
   "pygments_lexer": "ipython3",
   "version": "3.12.3"
  }
 },
 "nbformat": 4,
 "nbformat_minor": 5
}
