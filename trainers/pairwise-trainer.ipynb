{
 "cells": [
  {
   "cell_type": "code",
   "execution_count": 1,
   "id": "dabae853",
   "metadata": {},
   "outputs": [],
   "source": [
    "import numpy as np\n",
    "import pandas as pd\n",
    "from pandas_streaming.df import StreamingDataFrame\n",
    "import os\n",
    "\n",
    "from transformers import AutoTokenizer, TrainingArguments, Trainer, ModernBertForSequenceClassification\n",
    "from datasets import Dataset, load_dataset\n",
    "\n",
    "\n",
    "import evaluate\n",
    "import torch\n",
    "\n",
    "torch.set_float32_matmul_precision('high')\n",
    "\n",
    "metric = evaluate.load(\"accuracy\")\n",
    "\n",
    "def compute_metrics(eval_pred):\n",
    "    logits, labels = eval_pred\n",
    "    # convert the logits to their predicted class\n",
    "    predictions = np.argmax(logits, axis=-1)\n",
    "    \n",
    "    # print(f\"Avg pred: {sum(predictions)/len(predictions)}, Avg Labels: {sum(labels)/len(labels)}\")\n",
    "    \n",
    "    return metric.compute(predictions=predictions, references=labels)\n",
    "\n",
    "dataset = load_dataset(\"csv\", data_files=\"../data/pairwise-model-data/pairedwise-tweets.tsv\", delimiter=\"\\t\")\n",
    "dataset.shuffle()\n",
    "split = dataset[\"train\"].train_test_split(test_size=0.2)\n",
    "\n",
    "train_dataset = split[\"train\"].remove_columns('Unnamed: 0')\n",
    "eval_dataset = split[\"test\"].remove_columns('Unnamed: 0')"
   ]
  },
  {
   "cell_type": "code",
   "execution_count": 2,
   "id": "25d4d15e",
   "metadata": {},
   "outputs": [],
   "source": [
    "def preprocess_function(examples):\n",
    "    full_str = \"[CLS] \"\n",
    "    full_str += examples[\"query\"]\n",
    "    \n",
    "    for key in [\"paper1\", \"paper2\"]:\n",
    "        if examples[key] != None:\n",
    "            full_str += \" [SEP] \" + examples[key]\n",
    "    \n",
    "    return tokenizer(full_str, truncation=True).to('cuda')\n",
    "\n",
    "\n",
    "id2label = {0: \"0\", 1: \"1\"}\n",
    "label2id = {\"0\": 0, \"1\": 1}\n",
    "\n",
    "tokenizer = AutoTokenizer.from_pretrained(\"answerdotai/ModernBERT-base\")\n"
   ]
  },
  {
   "cell_type": "code",
   "execution_count": 3,
   "id": "fd45da20",
   "metadata": {},
   "outputs": [
    {
     "data": {
      "application/vnd.jupyter.widget-view+json": {
       "model_id": "34fd91d755c5452f95f4636bfdc80f7a",
       "version_major": 2,
       "version_minor": 0
      },
      "text/plain": [
       "Map:   0%|          | 0/61350 [00:00<?, ? examples/s]"
      ]
     },
     "metadata": {},
     "output_type": "display_data"
    }
   ],
   "source": [
    "train_dataset_tokenized = train_dataset.map(preprocess_function)"
   ]
  },
  {
   "cell_type": "code",
   "execution_count": 4,
   "id": "e9bb062f",
   "metadata": {},
   "outputs": [
    {
     "data": {
      "application/vnd.jupyter.widget-view+json": {
       "model_id": "3b54d8c11efc4a1aa1f67e1948a74ee8",
       "version_major": 2,
       "version_minor": 0
      },
      "text/plain": [
       "Map:   0%|          | 0/15338 [00:00<?, ? examples/s]"
      ]
     },
     "metadata": {},
     "output_type": "display_data"
    }
   ],
   "source": [
    "test_dataset_tokenized = eval_dataset.map(preprocess_function)"
   ]
  },
  {
   "cell_type": "code",
   "execution_count": null,
   "id": "373c59b2",
   "metadata": {},
   "outputs": [
    {
     "name": "stderr",
     "output_type": "stream",
     "text": [
      "Some weights of ModernBertForSequenceClassification were not initialized from the model checkpoint at answerdotai/ModernBERT-base and are newly initialized: ['classifier.bias', 'classifier.weight']\n",
      "You should probably TRAIN this model on a down-stream task to be able to use it for predictions and inference.\n",
      "W0510 15:41:53.255000 159379 torch/_inductor/utils.py:1250] [1/0] Not enough SMs to use max_autotune_gemm mode\n"
     ]
    },
    {
     "data": {
      "text/html": [
       "\n",
       "    <div>\n",
       "      \n",
       "      <progress value='1079' max='184050' style='width:300px; height:20px; vertical-align: middle;'></progress>\n",
       "      [  1079/184050 02:16 < 6:27:29, 7.87 it/s, Epoch 0.02/3]\n",
       "    </div>\n",
       "    <table border=\"1\" class=\"dataframe\">\n",
       "  <thead>\n",
       " <tr style=\"text-align: left;\">\n",
       "      <th>Step</th>\n",
       "      <th>Training Loss</th>\n",
       "      <th>Validation Loss</th>\n",
       "    </tr>\n",
       "  </thead>\n",
       "  <tbody>\n",
       "  </tbody>\n",
       "</table><p>"
      ],
      "text/plain": [
       "<IPython.core.display.HTML object>"
      ]
     },
     "metadata": {},
     "output_type": "display_data"
    },
    {
     "ename": "",
     "evalue": "",
     "output_type": "error",
     "traceback": [
      "\u001b[1;31mThe Kernel crashed while executing code in the current cell or a previous cell. \n",
      "\u001b[1;31mPlease review the code in the cell(s) to identify a possible cause of the failure. \n",
      "\u001b[1;31mClick <a href='https://aka.ms/vscodeJupyterKernelCrash'>here</a> for more info. \n",
      "\u001b[1;31mView Jupyter <a href='command:jupyter.viewOutput'>log</a> for further details."
     ]
    }
   ],
   "source": [
    "model = ModernBertForSequenceClassification.from_pretrained(\"answerdotai/ModernBERT-base\", num_labels=2, id2label=id2label, label2id=label2id)\n",
    "\n",
    "training_args = TrainingArguments(\n",
    "    output_dir=\"../models/pairwise-classifier-large\",\n",
    "    learning_rate=2e-6,\n",
    "    per_device_train_batch_size=1,\n",
    "    per_device_eval_batch_size=1,\n",
    "    num_train_epochs=3,\n",
    "    weight_decay=0.01,\n",
    "    eval_strategy=\"steps\",\n",
    "    eval_steps=16000,\n",
    "    save_strategy=\"steps\",\n",
    "    save_steps=16000,\n",
    "    load_best_model_at_end=True,\n",
    "    push_to_hub=False,\n",
    "    fp16=True,\n",
    "    optim=\"adamw_torch\",\n",
    "    save_total_limit=2,\n",
    "    eval_on_start=False\n",
    ")\n",
    "\n",
    "trainer = Trainer(\n",
    "    model=model,\n",
    "    args=training_args,\n",
    "    train_dataset=train_dataset_tokenized,\n",
    "    eval_dataset=test_dataset_tokenized,\n",
    "    compute_metrics=compute_metrics,\n",
    ")\n",
    "\n",
    "# trainer.evaluate()\n",
    "trainer.train(resume_from_checkpoint=True)"
   ]
  }
 ],
 "metadata": {
  "kernelspec": {
   "display_name": ".ir-env",
   "language": "python",
   "name": "python3"
  },
  "language_info": {
   "codemirror_mode": {
    "name": "ipython",
    "version": 3
   },
   "file_extension": ".py",
   "mimetype": "text/x-python",
   "name": "python",
   "nbconvert_exporter": "python",
   "pygments_lexer": "ipython3",
   "version": "3.12.3"
  }
 },
 "nbformat": 4,
 "nbformat_minor": 5
}
