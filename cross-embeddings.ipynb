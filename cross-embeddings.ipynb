{
 "cells": [
  {
   "cell_type": "code",
   "execution_count": 1,
   "id": "dccaa3da",
   "metadata": {},
   "outputs": [
    {
     "name": "stdout",
     "output_type": "stream",
     "text": [
      "<class 'pandas.core.frame.DataFrame'>\n",
      "Index: 7718 entries, 162 to 1056448\n",
      "Data columns (total 17 columns):\n",
      " #   Column            Non-Null Count  Dtype         \n",
      "---  ------            --------------  -----         \n",
      " 0   cord_uid          7718 non-null   object        \n",
      " 1   source_x          7718 non-null   object        \n",
      " 2   title             7718 non-null   object        \n",
      " 3   doi               7677 non-null   object        \n",
      " 4   pmcid             4959 non-null   object        \n",
      " 5   pubmed_id         6233 non-null   object        \n",
      " 6   license           7718 non-null   object        \n",
      " 7   abstract          7718 non-null   object        \n",
      " 8   publish_time      7715 non-null   object        \n",
      " 9   authors           7674 non-null   object        \n",
      " 10  journal           6668 non-null   object        \n",
      " 11  mag_id            0 non-null      float64       \n",
      " 12  who_covidence_id  528 non-null    object        \n",
      " 13  arxiv_id          20 non-null     object        \n",
      " 14  label             7718 non-null   object        \n",
      " 15  time              7715 non-null   datetime64[ns]\n",
      " 16  timet             7718 non-null   int64         \n",
      "dtypes: datetime64[ns](1), float64(1), int64(1), object(14)\n",
      "memory usage: 1.1+ MB\n"
     ]
    }
   ],
   "source": [
    "import numpy as np\n",
    "import pandas as pd\n",
    "import torch\n",
    "\n",
    "torch.set_float32_matmul_precision('high')\n",
    "\n",
    "DEV_MODE=False\n",
    "PATH_COLLECTION_DATA = 'data/subtask_4b/subtask4b_collection_data.pkl'\n",
    "\n",
    "df_collection = pd.read_pickle(PATH_COLLECTION_DATA)\n",
    "df_collection.info()"
   ]
  },
  {
   "cell_type": "code",
   "execution_count": 2,
   "id": "eb200706",
   "metadata": {},
   "outputs": [
    {
     "data": {
      "text/html": [
       "<div>\n",
       "<style scoped>\n",
       "    .dataframe tbody tr th:only-of-type {\n",
       "        vertical-align: middle;\n",
       "    }\n",
       "\n",
       "    .dataframe tbody tr th {\n",
       "        vertical-align: top;\n",
       "    }\n",
       "\n",
       "    .dataframe thead th {\n",
       "        text-align: right;\n",
       "    }\n",
       "</style>\n",
       "<table border=\"1\" class=\"dataframe\">\n",
       "  <thead>\n",
       "    <tr style=\"text-align: right;\">\n",
       "      <th></th>\n",
       "      <th>post_id</th>\n",
       "      <th>tweet_text</th>\n",
       "    </tr>\n",
       "  </thead>\n",
       "  <tbody>\n",
       "    <tr>\n",
       "      <th>0</th>\n",
       "      <td>1</td>\n",
       "      <td>A recent research study published yesterday cl...</td>\n",
       "    </tr>\n",
       "    <tr>\n",
       "      <th>1</th>\n",
       "      <td>2</td>\n",
       "      <td>\"We should track the long-term effects of thes...</td>\n",
       "    </tr>\n",
       "    <tr>\n",
       "      <th>2</th>\n",
       "      <td>3</td>\n",
       "      <td>the agony of \"long haul\" covid-19 symptoms.</td>\n",
       "    </tr>\n",
       "    <tr>\n",
       "      <th>3</th>\n",
       "      <td>4</td>\n",
       "      <td>Home and online monitoring and assessment of b...</td>\n",
       "    </tr>\n",
       "    <tr>\n",
       "      <th>4</th>\n",
       "      <td>5</td>\n",
       "      <td>it may be a long one, folks! to avoid exceedin...</td>\n",
       "    </tr>\n",
       "  </tbody>\n",
       "</table>\n",
       "</div>"
      ],
      "text/plain": [
       "   post_id                                         tweet_text\n",
       "0        1  A recent research study published yesterday cl...\n",
       "1        2  \"We should track the long-term effects of thes...\n",
       "2        3        the agony of \"long haul\" covid-19 symptoms.\n",
       "3        4  Home and online monitoring and assessment of b...\n",
       "4        5  it may be a long one, folks! to avoid exceedin..."
      ]
     },
     "execution_count": 2,
     "metadata": {},
     "output_type": "execute_result"
    }
   ],
   "source": [
    "query_variant = 'dev' if DEV_MODE else 'test'\n",
    "\n",
    "PATH_QUERY_DATA = f'data/subtask_4b/subtask4b_query_tweets_{query_variant}.tsv'\n",
    "df_query = pd.read_csv(PATH_QUERY_DATA, sep = '\\t')\n",
    "df_query.head()"
   ]
  },
  {
   "cell_type": "code",
   "execution_count": 3,
   "id": "4fd4ea84",
   "metadata": {},
   "outputs": [
    {
     "data": {
      "text/html": [
       "<div>\n",
       "<style scoped>\n",
       "    .dataframe tbody tr th:only-of-type {\n",
       "        vertical-align: middle;\n",
       "    }\n",
       "\n",
       "    .dataframe tbody tr th {\n",
       "        vertical-align: top;\n",
       "    }\n",
       "\n",
       "    .dataframe thead th {\n",
       "        text-align: right;\n",
       "    }\n",
       "</style>\n",
       "<table border=\"1\" class=\"dataframe\">\n",
       "  <thead>\n",
       "    <tr style=\"text-align: right;\">\n",
       "      <th></th>\n",
       "      <th>post_id</th>\n",
       "      <th>preds</th>\n",
       "    </tr>\n",
       "  </thead>\n",
       "  <tbody>\n",
       "    <tr>\n",
       "      <th>0</th>\n",
       "      <td>1</td>\n",
       "      <td>['qgwu9fsk', '8zufbeuz', 'b5yrfllu', 'rbgoabfk...</td>\n",
       "    </tr>\n",
       "    <tr>\n",
       "      <th>1</th>\n",
       "      <td>2</td>\n",
       "      <td>['e4xw6gyp', '9f0bjknz', 'k7vjqzx1', 'hunepli1...</td>\n",
       "    </tr>\n",
       "    <tr>\n",
       "      <th>2</th>\n",
       "      <td>3</td>\n",
       "      <td>['m3m2n3fw', 'dikrttn6', 'trrg1mnw', '5351oj7i...</td>\n",
       "    </tr>\n",
       "    <tr>\n",
       "      <th>3</th>\n",
       "      <td>4</td>\n",
       "      <td>['ru2ty1y9', 'enlj85zc', 'r4q0zqam', 'xs0kxf25...</td>\n",
       "    </tr>\n",
       "    <tr>\n",
       "      <th>4</th>\n",
       "      <td>5</td>\n",
       "      <td>['n0uy6hd2', 'x9veckdi', 'qnuphz59', 'n9zqc1gm...</td>\n",
       "    </tr>\n",
       "  </tbody>\n",
       "</table>\n",
       "</div>"
      ],
      "text/plain": [
       "   post_id                                              preds\n",
       "0        1  ['qgwu9fsk', '8zufbeuz', 'b5yrfllu', 'rbgoabfk...\n",
       "1        2  ['e4xw6gyp', '9f0bjknz', 'k7vjqzx1', 'hunepli1...\n",
       "2        3  ['m3m2n3fw', 'dikrttn6', 'trrg1mnw', '5351oj7i...\n",
       "3        4  ['ru2ty1y9', 'enlj85zc', 'r4q0zqam', 'xs0kxf25...\n",
       "4        5  ['n0uy6hd2', 'x9veckdi', 'qnuphz59', 'n9zqc1gm..."
      ]
     },
     "execution_count": 3,
     "metadata": {},
     "output_type": "execute_result"
    }
   ],
   "source": [
    "PARTIAL_PREDICTION_FILE = \"partial-predictions/sbert/predictions.tsv\"\n",
    "partial_predictions = pd.read_csv(PARTIAL_PREDICTION_FILE, sep = '\\t')\n",
    "partial_predictions.head()"
   ]
  },
  {
   "cell_type": "code",
   "execution_count": 4,
   "id": "d11473ee",
   "metadata": {},
   "outputs": [
    {
     "name": "stderr",
     "output_type": "stream",
     "text": [
      "  0%|          | 0/1446 [00:00<?, ?it/s]W0509 20:32:52.786000 15930 torch/_inductor/utils.py:1250] [0/0] Not enough SMs to use max_autotune_gemm mode\n",
      "100%|██████████| 1446/1446 [11:21<00:00,  2.12it/s]\n"
     ]
    }
   ],
   "source": [
    "from tqdm import tqdm\n",
    "from rankers.cross_embedding_ranker import CrossRanker\n",
    "from os import listdir\n",
    "\n",
    "tqdm.pandas()\n",
    "\n",
    "dir_list = listdir(\"models/cross-embedding\")\n",
    "dir_list.sort()\n",
    "\n",
    "latest_checkpoint = dir_list[-1]\n",
    "\n",
    "cross_model_name = f\"models/cross-embedding/{latest_checkpoint}\"\n",
    "cross_ranker = CrossRanker(cross_model_name)\n",
    "\n",
    "\n",
    "def get_top_cord_uids(query):\n",
    "    tweet_id = query[\"post_id\"]\n",
    "    selected_docs_uids = eval(partial_predictions[partial_predictions[\"post_id\"] == tweet_id][\"preds\"].values[0])[:100]\n",
    "\n",
    "    reduced_corpus = df_collection[df_collection['cord_uid'].isin(selected_docs_uids)]\n",
    "    cord_uids = reduced_corpus[:]['cord_uid'].tolist()\n",
    "\n",
    "    doc_scores = cross_ranker.get_scores(query[\"tweet_text\"], reduced_corpus)\n",
    "    indices = np.argsort(-doc_scores)[:200]\n",
    "    cross_topk = [cord_uids[x] for x in indices]\n",
    "\n",
    "    return cross_topk\n",
    "\n",
    "# Retrieve topk candidates using the BM25 model\n",
    "df_query['cross'] = df_query.progress_apply(lambda x: get_top_cord_uids(x), axis=1)"
   ]
  },
  {
   "cell_type": "code",
   "execution_count": 5,
   "id": "d65cb140",
   "metadata": {},
   "outputs": [],
   "source": [
    "from eval_scripts.eval import get_performance_mrr, get_avg_gold_in_pred, create_pred_file\n",
    "if DEV_MODE:\n",
    "    mrr_results = get_performance_mrr(df_query, 'cord_uid', 'cross')\n",
    "    gold_results = get_avg_gold_in_pred(df_query, 'cord_uid', 'cross', list_k=[10])\n",
    "    # Printed MRR@k results in the following format: {k: MRR@k}\n",
    "    print(\">>>\")\n",
    "    print(mrr_results)\n",
    "    print(gold_results)\n",
    "    print(\"<<<\")\n",
    "\n",
    "create_pred_file(df_query, \"cross\", prediction_size=10, include_gold=DEV_MODE, base_folder=\"partial-predictions/classifier\")"
   ]
  }
 ],
 "metadata": {
  "kernelspec": {
   "display_name": ".ir-env",
   "language": "python",
   "name": "python3"
  },
  "language_info": {
   "codemirror_mode": {
    "name": "ipython",
    "version": 3
   },
   "file_extension": ".py",
   "mimetype": "text/x-python",
   "name": "python",
   "nbconvert_exporter": "python",
   "pygments_lexer": "ipython3",
   "version": "3.12.3"
  }
 },
 "nbformat": 4,
 "nbformat_minor": 5
}
