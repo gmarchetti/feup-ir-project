{
 "cells": [
  {
   "cell_type": "code",
   "execution_count": 84,
   "id": "91e67b06",
   "metadata": {},
   "outputs": [
    {
     "data": {
      "text/html": [
       "<div>\n",
       "<style scoped>\n",
       "    .dataframe tbody tr th:only-of-type {\n",
       "        vertical-align: middle;\n",
       "    }\n",
       "\n",
       "    .dataframe tbody tr th {\n",
       "        vertical-align: top;\n",
       "    }\n",
       "\n",
       "    .dataframe thead th {\n",
       "        text-align: right;\n",
       "    }\n",
       "</style>\n",
       "<table border=\"1\" class=\"dataframe\">\n",
       "  <thead>\n",
       "    <tr style=\"text-align: right;\">\n",
       "      <th></th>\n",
       "      <th>post_id</th>\n",
       "      <th>preds</th>\n",
       "      <th>cord_uid</th>\n",
       "    </tr>\n",
       "  </thead>\n",
       "  <tbody>\n",
       "    <tr>\n",
       "      <th>0</th>\n",
       "      <td>16</td>\n",
       "      <td>['hg3xpej0', 'jrqlhjsm', 'trrg1mnw', '3qvh482o...</td>\n",
       "      <td>3qvh482o</td>\n",
       "    </tr>\n",
       "    <tr>\n",
       "      <th>1</th>\n",
       "      <td>69</td>\n",
       "      <td>['r58aohnu', 'd06npvro', 'yj3yisum', 'icgsbelo...</td>\n",
       "      <td>r58aohnu</td>\n",
       "    </tr>\n",
       "    <tr>\n",
       "      <th>2</th>\n",
       "      <td>73</td>\n",
       "      <td>['sts48u9i', 'gruir7aw', 'ujq9mxk7', 'hcfoj5l1...</td>\n",
       "      <td>sts48u9i</td>\n",
       "    </tr>\n",
       "    <tr>\n",
       "      <th>3</th>\n",
       "      <td>93</td>\n",
       "      <td>['3sr2exq9', 'sv48gjkk', 'k0f4cwig', 'u43jmpyx...</td>\n",
       "      <td>3sr2exq9</td>\n",
       "    </tr>\n",
       "    <tr>\n",
       "      <th>4</th>\n",
       "      <td>96</td>\n",
       "      <td>['ybwwmyqy', 'ierqfgo5', '3l6ipiwk', 'nlv939ft...</td>\n",
       "      <td>ybwwmyqy</td>\n",
       "    </tr>\n",
       "  </tbody>\n",
       "</table>\n",
       "</div>"
      ],
      "text/plain": [
       "   post_id                                              preds  cord_uid\n",
       "0       16  ['hg3xpej0', 'jrqlhjsm', 'trrg1mnw', '3qvh482o...  3qvh482o\n",
       "1       69  ['r58aohnu', 'd06npvro', 'yj3yisum', 'icgsbelo...  r58aohnu\n",
       "2       73  ['sts48u9i', 'gruir7aw', 'ujq9mxk7', 'hcfoj5l1...  sts48u9i\n",
       "3       93  ['3sr2exq9', 'sv48gjkk', 'k0f4cwig', 'u43jmpyx...  3sr2exq9\n",
       "4       96  ['ybwwmyqy', 'ierqfgo5', '3l6ipiwk', 'nlv939ft...  ybwwmyqy"
      ]
     },
     "execution_count": 84,
     "metadata": {},
     "output_type": "execute_result"
    }
   ],
   "source": [
    "import numpy as np\n",
    "import pandas as pd\n",
    "\n",
    "PARTIAL_PREDICTION_FILE = \"partial-predictions/pairwise/predictions.tsv\"\n",
    "partial_predictions = pd.read_csv(PARTIAL_PREDICTION_FILE, sep = '\\t')\n",
    "partial_predictions.head()"
   ]
  },
  {
   "cell_type": "code",
   "execution_count": 85,
   "id": "00101b11",
   "metadata": {},
   "outputs": [
    {
     "name": "stdout",
     "output_type": "stream",
     "text": [
      "<class 'pandas.core.series.Series'>\n",
      "RangeIndex: 1400 entries, 0 to 1399\n",
      "Series name: None\n",
      "Non-Null Count  Dtype \n",
      "--------------  ----- \n",
      "1400 non-null   object\n",
      "dtypes: object(1)\n",
      "memory usage: 11.1+ KB\n"
     ]
    }
   ],
   "source": [
    "def get_mmr_by_index(row, k=5):\n",
    "    selected_docs_uids = eval(row[\"preds\"])[:k]\n",
    "    mmr = 1/([i for i in selected_docs_uids].index(row[\"cord_uid\"]) + 1) if row[\"cord_uid\"] in selected_docs_uids else 0\n",
    "    return str(mmr)\n",
    "\n",
    "mmr_data = partial_predictions.apply(get_mmr_by_index, axis=1)\n",
    "mmr_data.info()"
   ]
  },
  {
   "cell_type": "code",
   "execution_count": 86,
   "id": "005fa5c0",
   "metadata": {},
   "outputs": [
    {
     "name": "stdout",
     "output_type": "stream",
     "text": [
      "[309  14  26  50  87 914] ['0' '0.2' '0.25' '0.33' '0.5' '1.0']\n"
     ]
    },
    {
     "data": {
      "image/png": "[encoded data removed]",
      "text/plain": [
       "<Figure size 640x480 with 1 Axes>"
      ]
     },
     "metadata": {},
     "output_type": "display_data"
    }
   ],
   "source": [
    "import matplotlib.pyplot as plt\n",
    "\n",
    "plt.title(\"Distribution of MRR@5 among posts\")\n",
    "plt.xlabel(\"MRR@5\")\n",
    "plt.ylabel(\"Nº of Post\")\n",
    "\n",
    "unique, counts = np.unique(mmr_data, return_counts=True)\n",
    "unique[3] = '0.33'\n",
    "print(counts, unique)\n",
    "plt.bar(unique, counts)\n",
    "plt.show()\n"
   ]
  },
  {
   "cell_type": "code",
   "execution_count": 87,
   "id": "b7171692",
   "metadata": {},
   "outputs": [],
   "source": [
    "PATH_COLLECTION_DATA = 'data/subtask_4b/subtask4b_collection_data.pkl'\n",
    "PATH_QUERY_DATA = f'data/subtask_4b/subtask4b_query_tweets_dev.tsv'\n",
    "\n",
    "df_collection = pd.read_pickle(PATH_COLLECTION_DATA)\n",
    "df_query = pd.read_csv(PATH_QUERY_DATA, sep = '\\t')\n",
    "\n",
    "first_00_mmr = list(mmr_data).index(\"0\", 200)\n",
    "first_02_mmr = list(mmr_data).index(\"0.2\")"
   ]
  },
  {
   "cell_type": "code",
   "execution_count": 88,
   "id": "d69b2361",
   "metadata": {},
   "outputs": [
    {
     "name": "stdout",
     "output_type": "stream",
     "text": [
      "ah good point on uk using asians. but the best cdc study found 81% protection against omicron for 2 doses mrna &lt;180d, 57% 2 doses &gt;180d, 90% for 3 doses. but would you expect any other v platforms to protect against a far different variant than the vaccine?\n",
      "yb9uyov3\n",
      "Estimates of COVID-19 mRNA vaccine effectiveness (VE) have declined in recent months (1,2) because of waning vaccine induced immunity over time,* possible increased immune evasion by SARS-CoV-2 variants (3), or a combination of these and other factors. CDC recommends that all persons aged ≥12 years receive a third dose (booster) of an mRNA vaccine ≥5 months after receipt of the second mRNA vaccine dose and that immunocompromised individuals receive a third primary dose.† A third dose of BNT162b2 (Pfizer-BioNTech) COVID-19 vaccine increases neutralizing antibody levels (4), and three recent studies from Israel have shown improved effectiveness of a third dose in preventing COVID-19 associated with infections with the SARS-CoV-2 B.1.617.2 (Delta) variant (5-7). Yet, data are limited on the real-world effectiveness of third doses of COVID-19 mRNA vaccine in the United States, especially since the SARS-CoV-2 B.1.1.529 (Omicron) variant became predominant in mid-December 2021. The VISION Network§ examined VE by analyzing 222,772 encounters from 383 emergency departments (EDs) and urgent care (UC) clinics and 87,904 hospitalizations from 259 hospitals among adults aged ≥18 years across 10 states from August 26, 2021¶ to January 5, 2022. Analyses were stratified by the period before and after the Omicron variant became the predominant strain (>50% of sequenced viruses) at each study site. During the period of Delta predominance across study sites in the United States (August-mid-December 2021), VE against laboratory-confirmed COVID-19-associated ED and UC encounters was 86% 14-179 days after dose 2, 76% ≥180 days after dose 2, and 94% ≥14 days after dose 3. Estimates of VE for the same intervals after vaccination during Omicron variant predominance were 52%, 38%, and 82%, respectively. During the period of Delta variant predominance, VE against laboratory-confirmed COVID-19-associated hospitalizations was 90% 14-179 days after dose 2, 81% ≥180 days after dose 2, and 94% ≥14 days after dose 3. During Omicron variant predominance, VE estimates for the same intervals after vaccination were 81%, 57%, and 90%, respectively. The highest estimates of VE against COVID-19-associated ED and UC encounters or hospitalizations during both Delta- and Omicron-predominant periods were among adults who received a third dose of mRNA vaccine. All unvaccinated persons should get vaccinated as soon as possible. All adults who have received mRNA vaccines during their primary COVID-19 vaccination series should receive a third dose when eligible, and eligible persons should stay up to date with COVID-19 vaccinations.\n",
      "m46vdpv6\n",
      "CDC recommends that all persons aged ≥12 years receive a booster dose of COVID-19 mRNA vaccine ≥5 months after completion of a primary mRNA vaccination series and that immunocompromised persons receive a third primary dose.* Waning of vaccine protection after 2 doses of mRNA vaccine has been observed during the period of the SARS-CoV-2 B.1.617.2 (Delta) variant predominance (1-5), but little is known about durability of protection after 3 doses during periods of Delta or SARS-CoV-2 B.1.1.529 (Omicron) variant predominance. A test-negative case-control study design using data from eight VISION Network sites§ examined vaccine effectiveness (VE) against COVID-19 emergency department/urgent care (ED/UC) visits and hospitalizations among U.S. adults aged ≥18 years at various time points after receipt of a second or third vaccine dose during two periods: Delta variant predominance and Omicron variant predominance (i.e., periods when each variant accounted for ≥50% of sequenced isolates).¶ Persons categorized as having received 3 doses included those who received a third dose in a primary series or a booster dose after a 2 dose primary series (including the reduced-dosage Moderna booster). The VISION Network analyzed 241,204 ED/UC encounters** and 93,408 hospitalizations across 10 states during August 26, 2021-January 22, 2022. VE after receipt of both 2 and 3 doses was lower during the Omicron-predominant than during the Delta-predominant period at all time points evaluated. During both periods, VE after receipt of a third dose was higher than that after a second dose; however, VE waned with increasing time since vaccination. During the Omicron period, VE against ED/UC visits was 87% during the first 2 months after a third dose and decreased to 66% among those vaccinated 4-5 months earlier; VE against hospitalizations was 91% during the first 2 months following a third dose and decreased to 78% ≥4 months after a third dose. For both Delta- and Omicron-predominant periods, VE was generally higher for protection against hospitalizations than against ED/UC visits. All eligible persons should remain up to date with recommended COVID-19 vaccinations to best protect against COVID-19-associated hospitalizations and ED/UC visits.\n"
     ]
    }
   ],
   "source": [
    "prediction_00 = partial_predictions.iloc[first_00_mmr]\n",
    "\n",
    "post_id_00 = prediction_00[\"post_id\"]\n",
    "gold_ref_00 = prediction_00[\"cord_uid\"]\n",
    "top_cand_00 = eval(prediction_00[\"preds\"])[0]\n",
    "\n",
    "\n",
    "tweet_00 = df_query[df_query[\"post_id\"] == post_id_00][\"tweet_text\"].values[0]\n",
    "gold_abs_00 = df_collection[df_collection[\"cord_uid\"] == gold_ref_00][\"abstract\"].values[0]\n",
    "cand_abs_00 = df_collection[df_collection[\"cord_uid\"] == top_cand_00][\"abstract\"].values[0]\n",
    "\n",
    "print(tweet_00)\n",
    "print(gold_ref_00)\n",
    "print(gold_abs_00)\n",
    "print(top_cand_00)\n",
    "print(cand_abs_00)"
   ]
  },
  {
   "cell_type": "code",
   "execution_count": 89,
   "id": "ae568186",
   "metadata": {},
   "outputs": [
    {
     "name": "stdout",
     "output_type": "stream",
     "text": [
      "Antibody dependent enhancement/pathogenic priming led to all previous coronavirus spike protein vaccines failing safety testing and FDA approval. It's utterly misleading that everyone is being told these shots are safe when that is absolutely not true.\n",
      "rb20ge7e\n",
      "Antibody-based drugs and vaccines against severe acute respiratory syndrome coronavirus 2 (SARS-CoV-2) are being expedited through preclinical and clinical development. Data from the study of SARS-CoV and other respiratory viruses suggest that anti-SARS-CoV-2 antibodies could exacerbate COVID-19 through antibody-dependent enhancement (ADE). Previous respiratory syncytial virus and dengue virus vaccine studies revealed human clinical safety risks related to ADE, resulting in failed vaccine trials. Here, we describe key ADE mechanisms and discuss mitigation strategies for SARS-CoV-2 vaccines and therapies in development. We also outline recently published data to evaluate the risks and opportunities for antibody-based protection against SARS-CoV-2.\n",
      "53t1mhnb\n",
      "Antibody dependent enhancement (ADE) of infection is a safety concern for vaccine strategies. In a recent publication, Li et al. (Cell 184 :1-17, 2021) have reported that infection-enhancing antibodies directed against the N-terminal domain (NTD) of the SARS-CoV-2 spike protein facilitate virus infection in vitro, but not in vivo. However, this study was performed with the original Wuhan/D614G strain. Since the Covid-19 pandemic is now dominated with Delta variants, we analyzed the interaction of facilitating antibodies with the NTD of these variants. Using molecular modelling approaches, we show that enhancing antibodies have a higher affinity for Delta variants than for Wuhan/D614G NTDs. We show that enhancing antibodies reinforce the binding of the spike trimer to the host cell membrane by clamping the NTD to lipid raft microdomains. This stabilizing mechanism may facilitate the conformational change that induces the demasking of the receptor binding domain. As the NTD is also targeted by neutralizing antibodies, our data suggest that the balance between neutralizing and facilitating antibodies in vaccinated individuals is in favor of neutralization for the original Wuhan/D614G strain. However, in the case of the Delta variant, neutralizing antibodies have a decreased affinity for the spike protein, whereas facilitating antibodies display a strikingly increased affinity. Thus, ADE may be a concern for people receiving vaccines based on the original Wuhan strain spike sequence (either mRNA or viral vectors). Under these circumstances, second generation vaccines with spike protein formulations lacking structurally-conserved ADE-related epitopes should be considered.\n"
     ]
    }
   ],
   "source": [
    "prediction_02 = partial_predictions.iloc[first_02_mmr]\n",
    "\n",
    "post_id_02 = prediction_02[\"post_id\"]\n",
    "gold_ref_02 = prediction_02[\"cord_uid\"]\n",
    "top_cand_02 = eval(prediction_02[\"preds\"])[0]\n",
    "\n",
    "\n",
    "tweet_02 = df_query[df_query[\"post_id\"] == post_id_02][\"tweet_text\"].values[0]\n",
    "gold_abs_02 = df_collection[df_collection[\"cord_uid\"] == gold_ref_02][\"abstract\"].values[0]\n",
    "cand_abs_02 = df_collection[df_collection[\"cord_uid\"] == top_cand_02][\"abstract\"].values[0]\n",
    "\n",
    "print(tweet_02)\n",
    "print(gold_ref_02)\n",
    "print(gold_abs_02)\n",
    "print(top_cand_02)\n",
    "print(cand_abs_02)"
   ]
  }
 ],
 "metadata": {
  "kernelspec": {
   "display_name": ".ir-env",
   "language": "python",
   "name": "python3"
  },
  "language_info": {
   "codemirror_mode": {
    "name": "ipython",
    "version": 3
   },
   "file_extension": ".py",
   "mimetype": "text/x-python",
   "name": "python",
   "nbconvert_exporter": "python",
   "pygments_lexer": "ipython3",
   "version": "3.12.3"
  }
 },
 "nbformat": 4,
 "nbformat_minor": 5
}
