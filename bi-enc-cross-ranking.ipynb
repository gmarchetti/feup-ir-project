{
 "cells": [
  {
   "cell_type": "code",
   "execution_count": 13,
   "id": "dccaa3da",
   "metadata": {},
   "outputs": [
    {
     "name": "stdout",
     "output_type": "stream",
     "text": [
      "<class 'pandas.core.frame.DataFrame'>\n",
      "Index: 7718 entries, 162 to 1056448\n",
      "Data columns (total 17 columns):\n",
      " #   Column            Non-Null Count  Dtype         \n",
      "---  ------            --------------  -----         \n",
      " 0   cord_uid          7718 non-null   object        \n",
      " 1   source_x          7718 non-null   object        \n",
      " 2   title             7718 non-null   object        \n",
      " 3   doi               7677 non-null   object        \n",
      " 4   pmcid             4959 non-null   object        \n",
      " 5   pubmed_id         6233 non-null   object        \n",
      " 6   license           7718 non-null   object        \n",
      " 7   abstract          7718 non-null   object        \n",
      " 8   publish_time      7715 non-null   object        \n",
      " 9   authors           7674 non-null   object        \n",
      " 10  journal           6668 non-null   object        \n",
      " 11  mag_id            0 non-null      float64       \n",
      " 12  who_covidence_id  528 non-null    object        \n",
      " 13  arxiv_id          20 non-null     object        \n",
      " 14  label             7718 non-null   object        \n",
      " 15  time              7715 non-null   datetime64[ns]\n",
      " 16  timet             7718 non-null   int64         \n",
      "dtypes: datetime64[ns](1), float64(1), int64(1), object(14)\n",
      "memory usage: 1.1+ MB\n"
     ]
    }
   ],
   "source": [
    "import numpy as np\n",
    "import pandas as pd\n",
    "\n",
    "PATH_COLLECTION_DATA = 'data/subtask_4b/subtask4b_collection_data.pkl'\n",
    "\n",
    "df_collection = pd.read_pickle(PATH_COLLECTION_DATA)\n",
    "df_collection.info()"
   ]
  },
  {
   "cell_type": "code",
   "execution_count": null,
   "id": "eb200706",
   "metadata": {},
   "outputs": [
    {
     "data": {
      "text/html": [
       "<div>\n",
       "<style scoped>\n",
       "    .dataframe tbody tr th:only-of-type {\n",
       "        vertical-align: middle;\n",
       "    }\n",
       "\n",
       "    .dataframe tbody tr th {\n",
       "        vertical-align: top;\n",
       "    }\n",
       "\n",
       "    .dataframe thead th {\n",
       "        text-align: right;\n",
       "    }\n",
       "</style>\n",
       "<table border=\"1\" class=\"dataframe\">\n",
       "  <thead>\n",
       "    <tr style=\"text-align: right;\">\n",
       "      <th></th>\n",
       "      <th>post_id</th>\n",
       "      <th>tweet_text</th>\n",
       "    </tr>\n",
       "  </thead>\n",
       "  <tbody>\n",
       "    <tr>\n",
       "      <th>0</th>\n",
       "      <td>1</td>\n",
       "      <td>A recent research study published yesterday cl...</td>\n",
       "    </tr>\n",
       "    <tr>\n",
       "      <th>1</th>\n",
       "      <td>2</td>\n",
       "      <td>\"We should track the long-term effects of thes...</td>\n",
       "    </tr>\n",
       "    <tr>\n",
       "      <th>2</th>\n",
       "      <td>3</td>\n",
       "      <td>the agony of \"long haul\" covid-19 symptoms.</td>\n",
       "    </tr>\n",
       "    <tr>\n",
       "      <th>3</th>\n",
       "      <td>4</td>\n",
       "      <td>Home and online monitoring and assessment of b...</td>\n",
       "    </tr>\n",
       "    <tr>\n",
       "      <th>4</th>\n",
       "      <td>5</td>\n",
       "      <td>it may be a long one, folks! to avoid exceedin...</td>\n",
       "    </tr>\n",
       "  </tbody>\n",
       "</table>\n",
       "</div>"
      ],
      "text/plain": [
       "   post_id                                         tweet_text\n",
       "0        1  A recent research study published yesterday cl...\n",
       "1        2  \"We should track the long-term effects of thes...\n",
       "2        3        the agony of \"long haul\" covid-19 symptoms.\n",
       "3        4  Home and online monitoring and assessment of b...\n",
       "4        5  it may be a long one, folks! to avoid exceedin..."
      ]
     },
     "execution_count": 14,
     "metadata": {},
     "output_type": "execute_result"
    }
   ],
   "source": [
    "PATH_QUERY_DATA = 'data/dev-tweets/subtask4b_query_tweets_dev.tsv'\n",
    "PATH_TEST_QUERY_DATA = 'data/subtask_4b/subtask4b_query_tweets_test.tsv'\n",
    "df_query = pd.read_csv(PATH_TEST_QUERY_DATA, sep = '\\t')\n",
    "df_query.head()"
   ]
  },
  {
   "cell_type": "code",
   "execution_count": 15,
   "id": "d11473ee",
   "metadata": {},
   "outputs": [
    {
     "name": "stderr",
     "output_type": "stream",
     "text": [
      "100%|██████████| 7718/7718 [00:00<00:00, 90373.59it/s]\n"
     ]
    }
   ],
   "source": [
    "# Data prep for bi-encoder\n",
    "from tqdm import tqdm\n",
    "from rankers.bi_encoder_ranker import BiEncoderRanker\n",
    "\n",
    "tqdm.pandas()\n",
    "\n",
    "def flatten_corpus(entry):    \n",
    "    title = entry[\"title\"]\n",
    "    authors = entry[\"authors\"]\n",
    "    abstract = entry[\"abstract\"]\n",
    "    journal = entry[\"journal\"]\n",
    "\n",
    "    paper_data = f\"{title} [SEP] {authors} [SEP] {abstract} [SEP] {journal}\"\n",
    "    return paper_data\n",
    "\n",
    "cord_uids = df_collection[:]['cord_uid'].tolist()\n",
    "corpus = df_collection.progress_apply(lambda x: flatten_corpus(x), axis = 1)\n",
    "corpus = corpus.tolist()"
   ]
  },
  {
   "cell_type": "code",
   "execution_count": 16,
   "id": "7242055f",
   "metadata": {},
   "outputs": [
    {
     "name": "stderr",
     "output_type": "stream",
     "text": [
      "INFO:sentence_transformers.SentenceTransformer:Use pytorch device_name: cuda:0\n",
      "INFO:sentence_transformers.SentenceTransformer:Load pretrained SentenceTransformer: multi-qa-mpnet-base-cos-v1\n"
     ]
    },
    {
     "data": {
      "application/vnd.jupyter.widget-view+json": {
       "model_id": "25107f9c3cde465b814a57624c04bb82",
       "version_major": 2,
       "version_minor": 0
      },
      "text/plain": [
       "Batches:   0%|          | 0/242 [00:00<?, ?it/s]"
      ]
     },
     "metadata": {},
     "output_type": "display_data"
    }
   ],
   "source": [
    "bi_model_name = \"multi-qa-mpnet-base-cos-v1\"\n",
    "bi_enc_ranker = BiEncoderRanker(bi_model_name, corpus)"
   ]
  },
  {
   "cell_type": "code",
   "execution_count": 17,
   "id": "3913db43",
   "metadata": {},
   "outputs": [
    {
     "name": "stderr",
     "output_type": "stream",
     "text": [
      "100%|██████████| 1446/1446 [1:25:25<00:00,  3.54s/it]\n"
     ]
    },
    {
     "data": {
      "text/html": [
       "<div>\n",
       "<style scoped>\n",
       "    .dataframe tbody tr th:only-of-type {\n",
       "        vertical-align: middle;\n",
       "    }\n",
       "\n",
       "    .dataframe tbody tr th {\n",
       "        vertical-align: top;\n",
       "    }\n",
       "\n",
       "    .dataframe thead th {\n",
       "        text-align: right;\n",
       "    }\n",
       "</style>\n",
       "<table border=\"1\" class=\"dataframe\">\n",
       "  <thead>\n",
       "    <tr style=\"text-align: right;\">\n",
       "      <th></th>\n",
       "      <th>post_id</th>\n",
       "      <th>tweet_text</th>\n",
       "      <th>bi_cross</th>\n",
       "    </tr>\n",
       "  </thead>\n",
       "  <tbody>\n",
       "    <tr>\n",
       "      <th>0</th>\n",
       "      <td>1</td>\n",
       "      <td>A recent research study published yesterday cl...</td>\n",
       "      <td>[x4zuv4jo, qgwu9fsk, bv7hvc1e, j0bu0upi, ayxtp...</td>\n",
       "    </tr>\n",
       "    <tr>\n",
       "      <th>1</th>\n",
       "      <td>2</td>\n",
       "      <td>\"We should track the long-term effects of thes...</td>\n",
       "      <td>[mm2aotem, 4vkkaqhz, cwekmw1a, h9nzxlaf, 855at...</td>\n",
       "    </tr>\n",
       "    <tr>\n",
       "      <th>2</th>\n",
       "      <td>3</td>\n",
       "      <td>the agony of \"long haul\" covid-19 symptoms.</td>\n",
       "      <td>[gtp5daep, 00ugdhvf, trrg1mnw, m3m2n3fw, yosjl...</td>\n",
       "    </tr>\n",
       "    <tr>\n",
       "      <th>3</th>\n",
       "      <td>4</td>\n",
       "      <td>Home and online monitoring and assessment of b...</td>\n",
       "      <td>[wabd3b9z, z43p1dmf, cfi5zhgu, c0i45oix, ru2ty...</td>\n",
       "    </tr>\n",
       "    <tr>\n",
       "      <th>4</th>\n",
       "      <td>5</td>\n",
       "      <td>it may be a long one, folks! to avoid exceedin...</td>\n",
       "      <td>[i88ccp9w, n9zqc1gm, 4sqjvr3y, ce1a9k8b, wotf0...</td>\n",
       "    </tr>\n",
       "  </tbody>\n",
       "</table>\n",
       "</div>"
      ],
      "text/plain": [
       "   post_id                                         tweet_text  \\\n",
       "0        1  A recent research study published yesterday cl...   \n",
       "1        2  \"We should track the long-term effects of thes...   \n",
       "2        3        the agony of \"long haul\" covid-19 symptoms.   \n",
       "3        4  Home and online monitoring and assessment of b...   \n",
       "4        5  it may be a long one, folks! to avoid exceedin...   \n",
       "\n",
       "                                            bi_cross  \n",
       "0  [x4zuv4jo, qgwu9fsk, bv7hvc1e, j0bu0upi, ayxtp...  \n",
       "1  [mm2aotem, 4vkkaqhz, cwekmw1a, h9nzxlaf, 855at...  \n",
       "2  [gtp5daep, 00ugdhvf, trrg1mnw, m3m2n3fw, yosjl...  \n",
       "3  [wabd3b9z, z43p1dmf, cfi5zhgu, c0i45oix, ru2ty...  \n",
       "4  [i88ccp9w, n9zqc1gm, 4sqjvr3y, ce1a9k8b, wotf0...  "
      ]
     },
     "execution_count": 17,
     "metadata": {},
     "output_type": "execute_result"
    }
   ],
   "source": [
    "from os import listdir\n",
    "from rankers.cross_embedding_ranker import CrossRanker\n",
    "\n",
    "dir_list = listdir(\"models/cross-embedding\")\n",
    "dir_list.sort()\n",
    "\n",
    "latest_checkpoint = dir_list[-1]\n",
    "\n",
    "cross_model_name = f\"models/cross-embedding/{latest_checkpoint}\"\n",
    "cross_ranker = CrossRanker(cross_model_name)\n",
    "\n",
    "def get_top_cord_uids_bi(query):\n",
    "    doc_scores = bi_enc_ranker.get_scores(query)\n",
    "    indices = np.argsort(-doc_scores[0])[:100]\n",
    "    bi_topk = [cord_uids[x] for x in indices]\n",
    "\n",
    "    reduced_corpus = df_collection[df_collection['cord_uid'].isin(bi_topk)]\n",
    "\n",
    "    return reduced_corpus\n",
    "\n",
    "def get_top_cord_uids(query):\n",
    "    reduced_corpus = get_top_cord_uids_bi(query)\n",
    "    \n",
    "    doc_scores = cross_ranker.get_scores(query, reduced_corpus)\n",
    "    \n",
    "    indices = np.argsort(-doc_scores)[:100]\n",
    "\n",
    "    cross_topk = [reduced_corpus.iloc[x][\"cord_uid\"] for x in indices]\n",
    "\n",
    "    return cross_topk\n",
    "\n",
    "# Retrieve topk candidates using the BM25 model\n",
    "df_query.loc[:,'bi_cross'] = df_query.loc[:, 'tweet_text'].progress_apply(lambda x: get_top_cord_uids(x))\n",
    "df_query.head()\n"
   ]
  },
  {
   "cell_type": "code",
   "execution_count": null,
   "id": "d65cb140",
   "metadata": {},
   "outputs": [],
   "source": [
    "from eval_scripts.eval import get_performance_mrr, get_avg_gold_in_pred, create_pred_file\n",
    "\n",
    "# mrr_results = get_performance_mrr(df_query, 'cord_uid', 'bi_cross')\n",
    "# gold_results = get_avg_gold_in_pred(df_query, 'cord_uid', 'bi_cross', list_k=[1, 5, 10, 100])\n",
    "# # Printed MRR@k results in the following format: {k: MRR@k}\n",
    "# print(\">>>\")\n",
    "# print(mrr_results)\n",
    "# print(gold_results)\n",
    "# print(\"<<<\")\n",
    "\n",
    "create_pred_file(df_query, 'bi_cross')"
   ]
  }
 ],
 "metadata": {
  "kernelspec": {
   "display_name": ".ir-env",
   "language": "python",
   "name": "python3"
  },
  "language_info": {
   "codemirror_mode": {
    "name": "ipython",
    "version": 3
   },
   "file_extension": ".py",
   "mimetype": "text/x-python",
   "name": "python",
   "nbconvert_exporter": "python",
   "pygments_lexer": "ipython3",
   "version": "3.12.3"
  }
 },
 "nbformat": 4,
 "nbformat_minor": 5
}
