{
 "cells": [
  {
   "cell_type": "code",
   "execution_count": 6,
   "id": "dccaa3da",
   "metadata": {},
   "outputs": [
    {
     "name": "stdout",
     "output_type": "stream",
     "text": [
      "<class 'pandas.core.frame.DataFrame'>\n",
      "Index: 7718 entries, 162 to 1056448\n",
      "Data columns (total 17 columns):\n",
      " #   Column            Non-Null Count  Dtype         \n",
      "---  ------            --------------  -----         \n",
      " 0   cord_uid          7718 non-null   object        \n",
      " 1   source_x          7718 non-null   object        \n",
      " 2   title             7718 non-null   object        \n",
      " 3   doi               7677 non-null   object        \n",
      " 4   pmcid             4959 non-null   object        \n",
      " 5   pubmed_id         6233 non-null   object        \n",
      " 6   license           7718 non-null   object        \n",
      " 7   abstract          7718 non-null   object        \n",
      " 8   publish_time      7715 non-null   object        \n",
      " 9   authors           7674 non-null   object        \n",
      " 10  journal           6668 non-null   object        \n",
      " 11  mag_id            0 non-null      float64       \n",
      " 12  who_covidence_id  528 non-null    object        \n",
      " 13  arxiv_id          20 non-null     object        \n",
      " 14  label             7718 non-null   object        \n",
      " 15  time              7715 non-null   datetime64[ns]\n",
      " 16  timet             7718 non-null   int64         \n",
      "dtypes: datetime64[ns](1), float64(1), int64(1), object(14)\n",
      "memory usage: 1.1+ MB\n"
     ]
    }
   ],
   "source": [
    "import numpy as np\n",
    "import pandas as pd\n",
    "\n",
    "PATH_COLLECTION_DATA = 'data/subtask_4b/subtask4b_collection_data.pkl'\n",
    "\n",
    "df_collection = pd.read_pickle(PATH_COLLECTION_DATA)\n",
    "df_collection.info()"
   ]
  },
  {
   "cell_type": "code",
   "execution_count": 7,
   "id": "eb200706",
   "metadata": {},
   "outputs": [
    {
     "data": {
      "text/html": [
       "<div>\n",
       "<style scoped>\n",
       "    .dataframe tbody tr th:only-of-type {\n",
       "        vertical-align: middle;\n",
       "    }\n",
       "\n",
       "    .dataframe tbody tr th {\n",
       "        vertical-align: top;\n",
       "    }\n",
       "\n",
       "    .dataframe thead th {\n",
       "        text-align: right;\n",
       "    }\n",
       "</style>\n",
       "<table border=\"1\" class=\"dataframe\">\n",
       "  <thead>\n",
       "    <tr style=\"text-align: right;\">\n",
       "      <th></th>\n",
       "      <th>Unnamed: 0</th>\n",
       "      <th>tweet_text</th>\n",
       "      <th>cord_uid</th>\n",
       "    </tr>\n",
       "  </thead>\n",
       "  <tbody>\n",
       "    <tr>\n",
       "      <th>0</th>\n",
       "      <td>11163</td>\n",
       "      <td>does the #lyme bacteria \"colonize\"? interestin...</td>\n",
       "      <td>tffhk1hy</td>\n",
       "    </tr>\n",
       "    <tr>\n",
       "      <th>1</th>\n",
       "      <td>9641</td>\n",
       "      <td>nice preprint from the outstanding dr. joshua ...</td>\n",
       "      <td>wq92nfnd</td>\n",
       "    </tr>\n",
       "    <tr>\n",
       "      <th>2</th>\n",
       "      <td>10765</td>\n",
       "      <td>an analysis by  and others concluded that halt...</td>\n",
       "      <td>e85xdrcw</td>\n",
       "    </tr>\n",
       "    <tr>\n",
       "      <th>3</th>\n",
       "      <td>3048</td>\n",
       "      <td>Neutralization of SARS-CoV-2 lineage B.1.1.7 p...</td>\n",
       "      <td>aefzogn3</td>\n",
       "    </tr>\n",
       "    <tr>\n",
       "      <th>4</th>\n",
       "      <td>2467</td>\n",
       "      <td>that T-cell immunity suggests we may already h...</td>\n",
       "      <td>4gr6i8rf</td>\n",
       "    </tr>\n",
       "  </tbody>\n",
       "</table>\n",
       "</div>"
      ],
      "text/plain": [
       "   Unnamed: 0                                         tweet_text  cord_uid\n",
       "0       11163  does the #lyme bacteria \"colonize\"? interestin...  tffhk1hy\n",
       "1        9641  nice preprint from the outstanding dr. joshua ...  wq92nfnd\n",
       "2       10765  an analysis by  and others concluded that halt...  e85xdrcw\n",
       "3        3048  Neutralization of SARS-CoV-2 lineage B.1.1.7 p...  aefzogn3\n",
       "4        2467  that T-cell immunity suggests we may already h...  4gr6i8rf"
      ]
     },
     "execution_count": 7,
     "metadata": {},
     "output_type": "execute_result"
    }
   ],
   "source": [
    "PATH_QUERY_DATA = 'data/eval-tweets/eval-tweets.tsv'\n",
    "df_query = pd.read_csv(PATH_QUERY_DATA, sep = '\\t')\n",
    "sub_df_query = df_query[:100]\n",
    "sub_df_query.head()"
   ]
  },
  {
   "cell_type": "code",
   "execution_count": 8,
   "id": "22768bb9",
   "metadata": {},
   "outputs": [
    {
     "name": "stdout",
     "output_type": "stream",
     "text": [
      "models/cross-embedding/checkpoint-4276\n"
     ]
    }
   ],
   "source": [
    "import os\n",
    "\n",
    "dir_list = os.listdir(\"models/cross-embedding\")\n",
    "dir_list.sort()\n",
    "\n",
    "latest_checkpoint = dir_list[-1]\n",
    "\n",
    "model_name = f\"models/cross-embedding/{latest_checkpoint}\"\n",
    "\n",
    "print(model_name)"
   ]
  },
  {
   "cell_type": "code",
   "execution_count": 9,
   "id": "d11473ee",
   "metadata": {},
   "outputs": [
    {
     "name": "stderr",
     "output_type": "stream",
     "text": [
      "DEBUG:urllib3.connectionpool:Resetting dropped connection: huggingface.co\n",
      "DEBUG:urllib3.connectionpool:https://huggingface.co:443 \"HEAD /allenai/scibert_scivocab_cased/resolve/main/tokenizer_config.json HTTP/1.1\" 404 0\n",
      "DEBUG:urllib3.connectionpool:https://huggingface.co:443 \"HEAD /allenai/scibert_scivocab_cased/resolve/main/config.json HTTP/1.1\" 200 0\n",
      "DEBUG:urllib3.connectionpool:https://huggingface.co:443 \"HEAD /allenai/scibert_scivocab_cased/resolve/main/tokenizer_config.json HTTP/1.1\" 404 0\n",
      "DEBUG:urllib3.connectionpool:https://huggingface.co:443 \"HEAD /allenai/scibert_scivocab_cased/resolve/main/vocab.txt HTTP/1.1\" 200 0\n",
      "100%|██████████| 100/100 [02:54<00:00,  1.74s/it]\n",
      "/tmp/ipykernel_1874/2631596139.py:38: SettingWithCopyWarning: \n",
      "A value is trying to be set on a copy of a slice from a DataFrame.\n",
      "Try using .loc[row_indexer,col_indexer] = value instead\n",
      "\n",
      "See the caveats in the documentation: https://pandas.pydata.org/pandas-docs/stable/user_guide/indexing.html#returning-a-view-versus-a-copy\n",
      "  sub_df_query.loc[:,'hybrid'] = sub_df_query.loc[:, 'tweet_text'].progress_apply(lambda x: get_top_cord_uids(x))\n"
     ]
    },
    {
     "data": {
      "text/html": [
       "<div>\n",
       "<style scoped>\n",
       "    .dataframe tbody tr th:only-of-type {\n",
       "        vertical-align: middle;\n",
       "    }\n",
       "\n",
       "    .dataframe tbody tr th {\n",
       "        vertical-align: top;\n",
       "    }\n",
       "\n",
       "    .dataframe thead th {\n",
       "        text-align: right;\n",
       "    }\n",
       "</style>\n",
       "<table border=\"1\" class=\"dataframe\">\n",
       "  <thead>\n",
       "    <tr style=\"text-align: right;\">\n",
       "      <th></th>\n",
       "      <th>Unnamed: 0</th>\n",
       "      <th>tweet_text</th>\n",
       "      <th>cord_uid</th>\n",
       "      <th>hybrid</th>\n",
       "    </tr>\n",
       "  </thead>\n",
       "  <tbody>\n",
       "    <tr>\n",
       "      <th>0</th>\n",
       "      <td>11163</td>\n",
       "      <td>does the #lyme bacteria \"colonize\"? interestin...</td>\n",
       "      <td>tffhk1hy</td>\n",
       "      <td>[tffhk1hy, h8x5cpz4, mjm2kap6, lvbutmio, cv7tb...</td>\n",
       "    </tr>\n",
       "    <tr>\n",
       "      <th>1</th>\n",
       "      <td>9641</td>\n",
       "      <td>nice preprint from the outstanding dr. joshua ...</td>\n",
       "      <td>wq92nfnd</td>\n",
       "      <td>[wq92nfnd, opjfy3xr, vx1hjh26, dt2pew66, 0imnd...</td>\n",
       "    </tr>\n",
       "    <tr>\n",
       "      <th>2</th>\n",
       "      <td>10765</td>\n",
       "      <td>an analysis by  and others concluded that halt...</td>\n",
       "      <td>e85xdrcw</td>\n",
       "      <td>[e85xdrcw, tvzn0112, 5yscqct1, xtnyad3j, pf45e...</td>\n",
       "    </tr>\n",
       "    <tr>\n",
       "      <th>3</th>\n",
       "      <td>3048</td>\n",
       "      <td>Neutralization of SARS-CoV-2 lineage B.1.1.7 p...</td>\n",
       "      <td>aefzogn3</td>\n",
       "      <td>[jvgq2p61, aefzogn3, n3yuvf8v, 8aosx41e, ybcr7...</td>\n",
       "    </tr>\n",
       "    <tr>\n",
       "      <th>4</th>\n",
       "      <td>2467</td>\n",
       "      <td>that T-cell immunity suggests we may already h...</td>\n",
       "      <td>4gr6i8rf</td>\n",
       "      <td>[9p2pzsx0, nln6pl3h, ouno4jpl, tzp03hmr, 6e444...</td>\n",
       "    </tr>\n",
       "  </tbody>\n",
       "</table>\n",
       "</div>"
      ],
      "text/plain": [
       "   Unnamed: 0                                         tweet_text  cord_uid  \\\n",
       "0       11163  does the #lyme bacteria \"colonize\"? interestin...  tffhk1hy   \n",
       "1        9641  nice preprint from the outstanding dr. joshua ...  wq92nfnd   \n",
       "2       10765  an analysis by  and others concluded that halt...  e85xdrcw   \n",
       "3        3048  Neutralization of SARS-CoV-2 lineage B.1.1.7 p...  aefzogn3   \n",
       "4        2467  that T-cell immunity suggests we may already h...  4gr6i8rf   \n",
       "\n",
       "                                              hybrid  \n",
       "0  [tffhk1hy, h8x5cpz4, mjm2kap6, lvbutmio, cv7tb...  \n",
       "1  [wq92nfnd, opjfy3xr, vx1hjh26, dt2pew66, 0imnd...  \n",
       "2  [e85xdrcw, tvzn0112, 5yscqct1, xtnyad3j, pf45e...  \n",
       "3  [jvgq2p61, aefzogn3, n3yuvf8v, 8aosx41e, ybcr7...  \n",
       "4  [9p2pzsx0, nln6pl3h, ouno4jpl, tzp03hmr, 6e444...  "
      ]
     },
     "execution_count": 9,
     "metadata": {},
     "output_type": "execute_result"
    }
   ],
   "source": [
    "from tqdm import tqdm\n",
    "from rankers.cross_embedding_ranker import CrossRanker\n",
    "from rank_bm25 import BM25Okapi\n",
    "\n",
    "tqdm.pandas()\n",
    "\n",
    "corpus = df_collection[:][['title', 'abstract']].apply(lambda x: f\"{x['title']} {x['abstract']}\", axis=1).tolist()\n",
    "\n",
    "tokenized_corpus = [doc.split(' ') for doc in corpus]\n",
    "bm25 = BM25Okapi(tokenized_corpus)\n",
    "\n",
    "cord_uids = df_collection[:]['cord_uid'].tolist()\n",
    "cross_ranker = CrossRanker(model_name)\n",
    "\n",
    "def get_top_cord_uids_bm25(query):\n",
    "    tokenized_query = query.split(' ')\n",
    "    doc_scores = bm25.get_scores(tokenized_query)\n",
    "    indices = np.argsort(-doc_scores)[:100]\n",
    "    bm25_topk = [cord_uids[x] for x in indices]\n",
    "\n",
    "    reduced_corpus = df_collection[df_collection['cord_uid'].isin(bm25_topk)]\n",
    "\n",
    "    return reduced_corpus\n",
    "\n",
    "\n",
    "def get_top_cord_uids(query):\n",
    "    reduced_corpus = get_top_cord_uids_bm25(query)\n",
    "    \n",
    "    doc_scores = cross_ranker.get_scores(query, reduced_corpus)\n",
    "    \n",
    "    indices = np.argsort(-doc_scores)[:10]\n",
    "\n",
    "    cross_topk = [reduced_corpus.iloc[x][\"cord_uid\"] for x in indices]\n",
    "\n",
    "    return cross_topk\n",
    "\n",
    "# Retrieve topk candidates using the BM25 model\n",
    "sub_df_query.loc[:,'hybrid'] = sub_df_query.loc[:, 'tweet_text'].progress_apply(lambda x: get_top_cord_uids(x))\n",
    "sub_df_query.head()\n"
   ]
  },
  {
   "cell_type": "code",
   "execution_count": 10,
   "id": "d65cb140",
   "metadata": {},
   "outputs": [
    {
     "name": "stdout",
     "output_type": "stream",
     "text": [
      "{1: np.float64(0.64), 5: np.float64(0.6920000000000001), 10: np.float64(0.6946666666666665)}\n"
     ]
    },
    {
     "name": "stderr",
     "output_type": "stream",
     "text": [
      "/tmp/ipykernel_1874/3450472046.py:4: SettingWithCopyWarning: \n",
      "A value is trying to be set on a copy of a slice from a DataFrame.\n",
      "Try using .loc[row_indexer,col_indexer] = value instead\n",
      "\n",
      "See the caveats in the documentation: https://pandas.pydata.org/pandas-docs/stable/user_guide/indexing.html#returning-a-view-versus-a-copy\n",
      "  data.loc[:,\"in_topx\"] = data.apply(lambda x: (1/([i for i in x[col_pred][:k]].index(x[col_gold]) + 1) if x[col_gold] in [i for i in x[col_pred][:k]] else 0), axis=1)\n"
     ]
    }
   ],
   "source": [
    "def get_performance_mrr(data, col_gold, col_pred, list_k = [1, 5, 10]):\n",
    "    d_performance = {}\n",
    "    for k in list_k:\n",
    "        data.loc[:,\"in_topx\"] = data.apply(lambda x: (1/([i for i in x[col_pred][:k]].index(x[col_gold]) + 1) if x[col_gold] in [i for i in x[col_pred][:k]] else 0), axis=1)\n",
    "        d_performance[k] = data[\"in_topx\"].mean()\n",
    "    return d_performance\n",
    "\n",
    "results = get_performance_mrr(sub_df_query, 'cord_uid', 'hybrid')\n",
    "# Printed MRR@k results in the following format: {k: MRR@k}\n",
    "print(results)"
   ]
  }
 ],
 "metadata": {
  "kernelspec": {
   "display_name": ".ir-env",
   "language": "python",
   "name": "python3"
  },
  "language_info": {
   "codemirror_mode": {
    "name": "ipython",
    "version": 3
   },
   "file_extension": ".py",
   "mimetype": "text/x-python",
   "name": "python",
   "nbconvert_exporter": "python",
   "pygments_lexer": "ipython3",
   "version": "3.12.3"
  }
 },
 "nbformat": 4,
 "nbformat_minor": 5
}
